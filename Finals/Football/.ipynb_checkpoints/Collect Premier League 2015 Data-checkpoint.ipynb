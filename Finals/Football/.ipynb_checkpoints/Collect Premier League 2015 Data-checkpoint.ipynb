{
 "cells": [
  {
   "cell_type": "markdown",
   "metadata": {},
   "source": [
    "# Football Data Collection\n",
    "- I am analysing only the 2015 premier legue matches. In order to collect data related to 2015, premier league, I need to indentify the competition key for  premier league matches.\n",
    "- Collect all competition list for 2015 read json file and identify competion ID for Premier League\n",
    "- Identify premier league id for year 2015 \n",
    "- Hit second api to fetch match data for that id and store the JSON files in local directory"
   ]
  },
  {
   "cell_type": "code",
   "execution_count": 112,
   "metadata": {
    "collapsed": false
   },
   "outputs": [],
   "source": [
    "import requests\n",
    "import os\n",
    "#requests.get(\"http://api.football-data.org/v1/competitions/\")\n",
    "#to check 200 response!! But actually what you need to do this below"
   ]
  },
  {
   "cell_type": "code",
   "execution_count": 113,
   "metadata": {
    "collapsed": true
   },
   "outputs": [],
   "source": [
    "path_val = 'Data/Football/competition_list/'"
   ]
  },
  {
   "cell_type": "code",
   "execution_count": 114,
   "metadata": {
    "collapsed": true
   },
   "outputs": [],
   "source": [
    "def ensure_dir(file_path):\n",
    "    directory = os.path.dirname(file_path)\n",
    "    if not os.path.exists(directory):\n",
    "        try:\n",
    "            os.makedirs(file_path,exist_ok=True)\n",
    "            \n",
    "        except OSError as exception:\n",
    "            if exception.errno != errno.EEXIST:\n",
    "                raise"
   ]
  },
  {
   "cell_type": "code",
   "execution_count": 115,
   "metadata": {
    "collapsed": false
   },
   "outputs": [],
   "source": [
    "import json\n",
    "import time\n",
    "ind_article_list=[]\n",
    "season_yr='2015'\n",
    "\n",
    "competition_list=requests.get(\"http://api.football-data.org/v1/competitions/?season=\"+season_yr).json()\n",
    "#competition_list"
   ]
  },
  {
   "cell_type": "code",
   "execution_count": 116,
   "metadata": {
    "collapsed": false
   },
   "outputs": [],
   "source": [
    "#Store Data in local file\n",
    "file_name =path_val+ 'competition_list.json'\n",
    "os.makedirs(os.path.dirname(file_name), exist_ok=True)\n",
    "with open(file_name, 'w', encoding='utf-8') as f:\n",
    "    json.dump(competition_list, f)\n",
    "    f.close()"
   ]
  },
  {
   "cell_type": "code",
   "execution_count": 117,
   "metadata": {
    "collapsed": true
   },
   "outputs": [],
   "source": [
    "#Read competitoinList to idntify ID\n",
    "directory='Data/Football/competition_list'\n",
    "for root, dirs, files in os.walk(directory):\n",
    "     for file in files:\n",
    "        with open(os.path.join(root, file), \"r\") as f:\n",
    "            data = json.load(f)"
   ]
  },
  {
   "cell_type": "code",
   "execution_count": 118,
   "metadata": {
    "collapsed": false
   },
   "outputs": [
    {
     "data": {
      "text/plain": [
       "{'_links': {'fixtures': {'href': 'http://api.football-data.org/v1/competitions/394/fixtures'},\n",
       "  'leagueTable': {'href': 'http://api.football-data.org/v1/competitions/394/leagueTable'},\n",
       "  'self': {'href': 'http://api.football-data.org/v1/competitions/394'},\n",
       "  'teams': {'href': 'http://api.football-data.org/v1/competitions/394/teams'}},\n",
       " 'caption': '1. Bundesliga 2015/16',\n",
       " 'currentMatchday': 34,\n",
       " 'id': 394,\n",
       " 'lastUpdated': '2016-06-15T08:09:51Z',\n",
       " 'league': 'BL1',\n",
       " 'numberOfGames': 306,\n",
       " 'numberOfMatchdays': 34,\n",
       " 'numberOfTeams': 18,\n",
       " 'year': '2015'}"
      ]
     },
     "execution_count": 118,
     "metadata": {},
     "output_type": "execute_result"
    }
   ],
   "source": [
    "data[0]"
   ]
  },
  {
   "cell_type": "code",
   "execution_count": 119,
   "metadata": {
    "collapsed": false
   },
   "outputs": [
    {
     "name": "stdout",
     "output_type": "stream",
     "text": [
      "We have found that 2015 premier league's ID is 398\n"
     ]
    },
    {
     "data": {
      "text/plain": [
       "[{'_links': {'fixtures': {'href': 'http://api.football-data.org/v1/competitions/398/fixtures'},\n",
       "   'leagueTable': {'href': 'http://api.football-data.org/v1/competitions/398/leagueTable'},\n",
       "   'self': {'href': 'http://api.football-data.org/v1/competitions/398'},\n",
       "   'teams': {'href': 'http://api.football-data.org/v1/competitions/398/teams'}},\n",
       "  'caption': 'Premier League 2015/16',\n",
       "  'currentMatchday': 38,\n",
       "  'id': 398,\n",
       "  'lastUpdated': '2016-05-19T15:12:55Z',\n",
       "  'league': 'PL',\n",
       "  'numberOfGames': 380,\n",
       "  'numberOfMatchdays': 38,\n",
       "  'numberOfTeams': 20,\n",
       "  'year': '2015'}]"
      ]
     },
     "execution_count": 119,
     "metadata": {},
     "output_type": "execute_result"
    }
   ],
   "source": [
    "pl_data=[]\n",
    "pl_id=\"\"\n",
    "for l in data:\n",
    "    if 'caption' in l and 'id' in l and 'league' in l:\n",
    "        if l['league'] == 'PL':\n",
    "            #print(data[l])\n",
    "            pl_data.append(l)\n",
    "            pl_id= l['id']\n",
    "print(\"We have found that 2015 premier league's ID is \"+str(pl_id))\n",
    "pl_data  "
   ]
  },
  {
   "cell_type": "code",
   "execution_count": 120,
   "metadata": {
    "collapsed": false
   },
   "outputs": [],
   "source": [
    "path_val_match = 'Data/Football/match/'\n",
    "match_list=[]\n",
    "#for i in range(1,38):\n",
    "match_list=requests.get(\"http://api.football-data.org/v1/competitions/\"+str(pl_id)+\"/fixtures?\").json()\n"
   ]
  },
  {
   "cell_type": "code",
   "execution_count": 121,
   "metadata": {
    "collapsed": false
   },
   "outputs": [
    {
     "data": {
      "text/plain": [
       "380"
      ]
     },
     "execution_count": 121,
     "metadata": {},
     "output_type": "execute_result"
    }
   ],
   "source": [
    "len(match_list['fixtures'])\n"
   ]
  },
  {
   "cell_type": "code",
   "execution_count": 123,
   "metadata": {
    "collapsed": false
   },
   "outputs": [],
   "source": [
    "match_list_index = []\n",
    "for i in range(0,len(match_list['fixtures'])):\n",
    "    match_list_index.append(match_list['fixtures'][i])\n",
    "    #print(match_list['fixtures'][i])\n",
    "    #break\n",
    "    #print('step1')\n",
    "    #for match in match_list['fixtures'][i]:\n",
    "     #   match_list_index.append(match)\n",
    "#match_list_index[0]\n",
    "for match in match_list_index:\n",
    "    awayTeamName = match['awayTeamName']\n",
    "    homeTeamName = match['homeTeamName']\n",
    "    matchday = match['matchday']\n",
    "    if awayTeamName and homeTeamName and matchday:\n",
    "        file_name_match =path_val_match+ homeTeamName+'vs'+ awayTeamName+'on Day'+str(matchday)\n",
    "        os.makedirs(os.path.dirname(file_name_match), exist_ok=True)\n",
    "        with open(file_name_match, 'w', encoding='utf-8') as f:\n",
    "            json.dump(match, f)\n",
    "            f.close()\n",
    "\n",
    "        "
   ]
  },
  {
   "cell_type": "code",
   "execution_count": null,
   "metadata": {
    "collapsed": true
   },
   "outputs": [],
   "source": []
  },
  {
   "cell_type": "code",
   "execution_count": null,
   "metadata": {
    "collapsed": true
   },
   "outputs": [],
   "source": []
  }
 ],
 "metadata": {
  "anaconda-cloud": {},
  "kernelspec": {
   "display_name": "Python [conda root]",
   "language": "python",
   "name": "conda-root-py"
  },
  "language_info": {
   "codemirror_mode": {
    "name": "ipython",
    "version": 3
   },
   "file_extension": ".py",
   "mimetype": "text/x-python",
   "name": "python",
   "nbconvert_exporter": "python",
   "pygments_lexer": "ipython3",
   "version": "3.5.2"
  }
 },
 "nbformat": 4,
 "nbformat_minor": 2
}
